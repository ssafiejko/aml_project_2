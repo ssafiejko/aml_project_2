{
 "cells": [
  {
   "cell_type": "code",
   "execution_count": 7,
   "id": "e6ed80b5",
   "metadata": {},
   "outputs": [],
   "source": [
    "import pandas as pd\n",
    "import numpy as np\n",
    "from custom_scaler import alternative_column_transformer, column_transformer, tree_column_transformer\n",
    "\n",
    "\n",
    "from PAIFS import PrecisionAwareFeatureSelector"
   ]
  },
  {
   "cell_type": "code",
   "execution_count": 8,
   "id": "6088f871",
   "metadata": {},
   "outputs": [],
   "source": [
    "X = pd.read_table('x_train.txt', sep=\" \", header=None)\n",
    "X.columns = [str(i) for i in range(X.shape[1])]\n",
    "y = pd.read_table('y_train.txt', header=None).to_numpy(dtype=np.int8).squeeze()"
   ]
  },
  {
   "cell_type": "markdown",
   "id": "25d273d6",
   "metadata": {},
   "source": [
    "# Precision Aware Feature Selector"
   ]
  },
  {
   "cell_type": "markdown",
   "id": "45c24cbd",
   "metadata": {},
   "source": [
    "## All Features"
   ]
  },
  {
   "cell_type": "markdown",
   "id": "48c5a2ad",
   "metadata": {},
   "source": [
    "### Standard column scaler"
   ]
  },
  {
   "cell_type": "code",
   "execution_count": 3,
   "id": "6c063de0",
   "metadata": {},
   "outputs": [],
   "source": [
    "selector = PrecisionAwareFeatureSelector(\n",
    "        max_features=10,\n",
    "        cv_folds=5,\n",
    "        n_iterations=15,\n",
    "        stability_threshold=0.7,\n",
    "        early_stopping_patience=3,\n",
    "        top_percentile=20,\n",
    "        scaler=\"ct\",\n",
    "        column_transformer=column_transformer,\n",
    "        random_state=42\n",
    "    )"
   ]
  },
  {
   "cell_type": "code",
   "execution_count": 4,
   "id": "3f40c16b",
   "metadata": {},
   "outputs": [
    {
     "name": "stdout",
     "output_type": "stream",
     "text": [
      "Starting PAIFS with 500 features, targeting 10 features\n",
      "Optimizing precision at top 20% of predictions\n",
      "Excluded 0 features. Remaining: 500 features\n",
      "\n",
      "Phase 1: Initial importance-based filtering...\n",
      "Selected top 50 features based on ensemble importance\n",
      "\n",
      "Phase 2: Iterative precision-aware selection...\n",
      "Iteration 1: Added feature 3, Score: 0.7470, Total features: 1\n",
      "Iteration 2: Added feature 2, Score: 0.7580, Total features: 2\n",
      "Iteration 3: Added feature 4, Score: 0.7710, Total features: 3\n",
      "Iteration 4: Added feature 395, Score: 0.7750, Total features: 4\n",
      "Iteration 5: Added feature 365, Score: 0.7740, Total features: 5\n",
      "Iteration 6: Added feature 6, Score: 0.7720, Total features: 6\n",
      "Feature selection stabilized at iteration 6\n",
      "\n",
      "Final selection: 6 features\n",
      "Selected features (original indices): [3, 2, 4, 395, 365, 6]\n",
      "Final precision@top20%: 0.7750\n"
     ]
    },
    {
     "data": {
      "text/plain": [
       "<PAIFS.PrecisionAwareFeatureSelector at 0x15a526950>"
      ]
     },
     "execution_count": 4,
     "metadata": {},
     "output_type": "execute_result"
    }
   ],
   "source": [
    "selector.fit(X,y)"
   ]
  },
  {
   "cell_type": "markdown",
   "id": "0e2c807c",
   "metadata": {},
   "source": [
    "### Alt Scaler"
   ]
  },
  {
   "cell_type": "code",
   "execution_count": 2,
   "id": "8f7733ac",
   "metadata": {},
   "outputs": [],
   "source": [
    "selector = PrecisionAwareFeatureSelector(\n",
    "        max_features=10,\n",
    "        cv_folds=5,\n",
    "        n_iterations=15,\n",
    "        stability_threshold=0.7,\n",
    "        early_stopping_patience=3,\n",
    "        top_percentile=20,\n",
    "        scaler=\"act\",\n",
    "        column_transformer=column_transformer,\n",
    "        alternative_column_transformer=tree_column_transformer,\n",
    "        random_state=42\n",
    "    )"
   ]
  },
  {
   "cell_type": "code",
   "execution_count": 5,
   "id": "67b12fb8",
   "metadata": {},
   "outputs": [
    {
     "name": "stdout",
     "output_type": "stream",
     "text": [
      "Starting PAIFS with 500 features, targeting 10 features\n",
      "Optimizing precision at top 20% of predictions\n",
      "Excluded 0 features. Remaining: 500 features\n",
      "\n",
      "Phase 1: Initial importance-based filtering...\n",
      "Selected top 50 features based on ensemble importance\n",
      "\n",
      "Phase 2: Iterative precision-aware selection...\n",
      "Iteration 1: Added feature 3, Score: 0.7470, Total features: 1\n",
      "Iteration 2: Added feature 2, Score: 0.7580, Total features: 2\n",
      "Iteration 3: Added feature 4, Score: 0.7710, Total features: 3\n",
      "Iteration 4: Added feature 395, Score: 0.7770, Total features: 4\n",
      "Iteration 5: Added feature 5, Score: 0.7740, Total features: 5\n",
      "Iteration 6: Added feature 315, Score: 0.7820, Total features: 6\n",
      "Feature selection stabilized at iteration 6\n",
      "\n",
      "Final selection: 6 features\n",
      "Selected features (original indices): [3, 2, 4, 395, 5, 315]\n",
      "Final precision@top20%: 0.7820\n"
     ]
    },
    {
     "data": {
      "text/plain": [
       "<PAIFS.PrecisionAwareFeatureSelector at 0x31bf9c290>"
      ]
     },
     "execution_count": 5,
     "metadata": {},
     "output_type": "execute_result"
    }
   ],
   "source": [
    "selector.fit(X,y)"
   ]
  },
  {
   "cell_type": "markdown",
   "id": "ca7745d7",
   "metadata": {},
   "source": [
    "## Excluding VIF features"
   ]
  },
  {
   "cell_type": "code",
   "execution_count": 6,
   "id": "2b59d349",
   "metadata": {},
   "outputs": [],
   "source": [
    "from utils import VIF_SELECTED_VARIABES"
   ]
  },
  {
   "cell_type": "markdown",
   "id": "28956f37",
   "metadata": {},
   "source": [
    "### Standard column scaler"
   ]
  },
  {
   "cell_type": "code",
   "execution_count": 7,
   "id": "d121d260",
   "metadata": {},
   "outputs": [],
   "source": [
    "selector = PrecisionAwareFeatureSelector(\n",
    "        max_features=10,\n",
    "        cv_folds=5,\n",
    "        n_iterations=15,\n",
    "        stability_threshold=0.7,\n",
    "        early_stopping_patience=3,\n",
    "        top_percentile=20,\n",
    "        scaler=\"ct\",\n",
    "        column_transformer=column_transformer,\n",
    "        exclude_features=VIF_SELECTED_VARIABES,\n",
    "        random_state=42\n",
    "    )"
   ]
  },
  {
   "cell_type": "code",
   "execution_count": 8,
   "id": "afa54713",
   "metadata": {},
   "outputs": [
    {
     "name": "stdout",
     "output_type": "stream",
     "text": [
      "Starting PAIFS with 500 features, targeting 10 features\n",
      "Excluding 19 features: [13, 178, 194, 298, 305, 117, 228, 462, 414, 425, 0, 1, 3, 4, 5, 6, 7, 8, 9]\n",
      "Optimizing precision at top 20% of predictions\n",
      "Excluded 19 features. Remaining: 481 features\n",
      "\n",
      "Phase 1: Initial importance-based filtering...\n",
      "Selected top 50 features based on ensemble importance\n",
      "\n",
      "Phase 2: Iterative precision-aware selection...\n",
      "Iteration 1: Added feature 2, Score: 0.7380, Total features: 1\n",
      "Iteration 2: Added feature 374, Score: 0.7630, Total features: 2\n",
      "Iteration 3: Added feature 191, Score: 0.7680, Total features: 3\n",
      "Iteration 4: Added feature 360, Score: 0.7710, Total features: 4\n",
      "Iteration 5: Added feature 397, Score: 0.7830, Total features: 5\n",
      "Iteration 6: Added feature 323, Score: 0.7780, Total features: 6\n",
      "Feature selection stabilized at iteration 6\n",
      "\n",
      "Final selection: 6 features\n",
      "Selected features (original indices): [2, 374, 191, 360, 397, 323]\n",
      "Final precision@top20%: 0.7830\n"
     ]
    },
    {
     "data": {
      "text/plain": [
       "<PAIFS.PrecisionAwareFeatureSelector at 0x31cd45a90>"
      ]
     },
     "execution_count": 8,
     "metadata": {},
     "output_type": "execute_result"
    }
   ],
   "source": [
    "selector.fit(X,y)"
   ]
  },
  {
   "cell_type": "markdown",
   "id": "edbb6d58",
   "metadata": {},
   "source": [
    "### Alt Scaler [trees]"
   ]
  },
  {
   "cell_type": "code",
   "execution_count": null,
   "id": "2445435f",
   "metadata": {},
   "outputs": [],
   "source": [
    "selector = PrecisionAwareFeatureSelector(\n",
    "        max_features=10,\n",
    "        cv_folds=5,\n",
    "        n_iterations=15,\n",
    "        stability_threshold=0.7,\n",
    "        early_stopping_patience=3,\n",
    "        top_percentile=20,\n",
    "        scaler=\"act\",\n",
    "        column_transformer=column_transformer,\n",
    "        alternative_column_transformer=tree_column_transformer,\n",
    "        exclude_features=VIF_SELECTED_VARIABES,\n",
    "        random_state=42\n",
    "    )"
   ]
  },
  {
   "cell_type": "code",
   "execution_count": null,
   "id": "1f7302b8",
   "metadata": {},
   "outputs": [
    {
     "name": "stdout",
     "output_type": "stream",
     "text": [
      "Starting PAIFS with 500 features, targeting 10 features\n",
      "Excluding 19 features: [13, 178, 194, 298, 305, 117, 228, 462, 414, 425, 0, 1, 3, 4, 5, 6, 7, 8, 9]\n",
      "Optimizing precision at top 20% of predictions\n",
      "Excluded 19 features. Remaining: 481 features\n",
      "\n",
      "Phase 1: Initial importance-based filtering...\n",
      "Selected top 50 features based on ensemble importance\n",
      "\n",
      "Phase 2: Iterative precision-aware selection...\n",
      "Iteration 1: Added feature 2, Score: 0.7380, Total features: 1\n",
      "Iteration 2: Added feature 374, Score: 0.7630, Total features: 2\n",
      "Iteration 3: Added feature 191, Score: 0.7680, Total features: 3\n",
      "Iteration 4: Added feature 360, Score: 0.7720, Total features: 4\n",
      "Iteration 5: Added feature 397, Score: 0.7830, Total features: 5\n",
      "Iteration 6: Added feature 323, Score: 0.7780, Total features: 6\n",
      "Feature selection stabilized at iteration 6\n",
      "\n",
      "Final selection: 6 features\n",
      "Selected features (original indices): [2, 374, 191, 360, 397, 323]\n",
      "Final precision@top20%: 0.7830\n"
     ]
    },
    {
     "data": {
      "text/plain": [
       "<PAIFS.PrecisionAwareFeatureSelector at 0x31cebd390>"
      ]
     },
     "metadata": {},
     "output_type": "display_data"
    }
   ],
   "source": [
    "selector.fit(X,y)"
   ]
  },
  {
   "cell_type": "markdown",
   "id": "ce4ba0bb",
   "metadata": {},
   "source": [
    "## Excluding VIF features [3 remaining instead of 2]"
   ]
  },
  {
   "cell_type": "code",
   "execution_count": 7,
   "id": "8ee92a85",
   "metadata": {},
   "outputs": [],
   "source": [
    "from utils import VIF_SELECTED_VARIABES\n",
    "\n",
    "idx_of_3 = VIF_SELECTED_VARIABES.index(3)\n",
    "\n",
    "VIF_SELECTED_VARIABLES_2F3 = VIF_SELECTED_VARIABES\n",
    "VIF_SELECTED_VARIABLES_2F3[idx_of_3] = 2\n"
   ]
  },
  {
   "cell_type": "markdown",
   "id": "5d881699",
   "metadata": {},
   "source": [
    "### Standard column scaler"
   ]
  },
  {
   "cell_type": "code",
   "execution_count": 8,
   "id": "f3755de6",
   "metadata": {},
   "outputs": [],
   "source": [
    "selector = PrecisionAwareFeatureSelector(\n",
    "        max_features=10,\n",
    "        cv_folds=5,\n",
    "        n_iterations=15,\n",
    "        stability_threshold=0.7,\n",
    "        early_stopping_patience=3,\n",
    "        top_percentile=20,\n",
    "        scaler=\"ct\",\n",
    "        column_transformer=column_transformer,\n",
    "        exclude_features=VIF_SELECTED_VARIABLES_2F3,\n",
    "        random_state=42\n",
    "    )"
   ]
  },
  {
   "cell_type": "code",
   "execution_count": 9,
   "id": "131baea2",
   "metadata": {},
   "outputs": [
    {
     "name": "stdout",
     "output_type": "stream",
     "text": [
      "Starting PAIFS with 500 features, targeting 10 features\n",
      "Excluding 19 features: [13, 178, 194, 298, 305, 117, 228, 462, 414, 425, 0, 1, 2, 4, 5, 6, 7, 8, 9]\n",
      "Optimizing precision at top 20% of predictions\n",
      "Excluded 19 features. Remaining: 481 features\n",
      "\n",
      "Phase 1: Initial importance-based filtering...\n",
      "Selected top 50 features based on ensemble importance\n",
      "\n",
      "Phase 2: Iterative precision-aware selection...\n",
      "Iteration 1: Added feature 3, Score: 0.7470, Total features: 1\n",
      "Iteration 2: Added feature 360, Score: 0.7530, Total features: 2\n",
      "Iteration 3: Added feature 397, Score: 0.7600, Total features: 3\n",
      "Iteration 4: Added feature 115, Score: 0.7660, Total features: 4\n",
      "Iteration 5: Added feature 345, Score: 0.7670, Total features: 5\n",
      "Iteration 6: Added feature 366, Score: 0.7670, Total features: 6\n",
      "Feature selection stabilized at iteration 6\n",
      "\n",
      "Final selection: 6 features\n",
      "Selected features (original indices): [3, 360, 397, 115, 345, 366]\n",
      "Final precision@top20%: 0.7670\n"
     ]
    },
    {
     "data": {
      "text/plain": [
       "<PAIFS.PrecisionAwareFeatureSelector at 0x16fe98710>"
      ]
     },
     "execution_count": 9,
     "metadata": {},
     "output_type": "execute_result"
    }
   ],
   "source": [
    "selector.fit(X,y)"
   ]
  },
  {
   "cell_type": "markdown",
   "id": "29922406",
   "metadata": {},
   "source": [
    "### Alt Scaler [trees]"
   ]
  },
  {
   "cell_type": "code",
   "execution_count": 10,
   "id": "600b8d43",
   "metadata": {},
   "outputs": [],
   "source": [
    "selector = PrecisionAwareFeatureSelector(\n",
    "        max_features=10,\n",
    "        cv_folds=5,\n",
    "        n_iterations=15,\n",
    "        stability_threshold=0.7,\n",
    "        early_stopping_patience=3,\n",
    "        top_percentile=20,\n",
    "        scaler=\"act\",\n",
    "        column_transformer=column_transformer,\n",
    "        alternative_column_transformer=tree_column_transformer,\n",
    "        exclude_features=VIF_SELECTED_VARIABLES_2F3,\n",
    "        random_state=42\n",
    "    )"
   ]
  },
  {
   "cell_type": "code",
   "execution_count": 11,
   "id": "e5cb7314",
   "metadata": {},
   "outputs": [
    {
     "name": "stdout",
     "output_type": "stream",
     "text": [
      "Starting PAIFS with 500 features, targeting 10 features\n",
      "Excluding 19 features: [13, 178, 194, 298, 305, 117, 228, 462, 414, 425, 0, 1, 2, 4, 5, 6, 7, 8, 9]\n",
      "Optimizing precision at top 20% of predictions\n",
      "Excluded 19 features. Remaining: 481 features\n",
      "\n",
      "Phase 1: Initial importance-based filtering...\n",
      "Selected top 50 features based on ensemble importance\n",
      "\n",
      "Phase 2: Iterative precision-aware selection...\n",
      "Iteration 1: Added feature 3, Score: 0.7470, Total features: 1\n",
      "Iteration 2: Added feature 360, Score: 0.7530, Total features: 2\n",
      "Iteration 3: Added feature 397, Score: 0.7600, Total features: 3\n",
      "Iteration 4: Added feature 115, Score: 0.7660, Total features: 4\n",
      "Iteration 5: Added feature 345, Score: 0.7670, Total features: 5\n",
      "Iteration 6: Added feature 357, Score: 0.7670, Total features: 6\n",
      "Feature selection stabilized at iteration 6\n",
      "\n",
      "Final selection: 6 features\n",
      "Selected features (original indices): [3, 360, 397, 115, 345, 357]\n",
      "Final precision@top20%: 0.7670\n"
     ]
    },
    {
     "data": {
      "text/plain": [
       "<PAIFS.PrecisionAwareFeatureSelector at 0x308115390>"
      ]
     },
     "execution_count": 11,
     "metadata": {},
     "output_type": "execute_result"
    }
   ],
   "source": [
    "selector.fit(X,y)"
   ]
  },
  {
   "cell_type": "markdown",
   "id": "97c3851f",
   "metadata": {},
   "source": [
    "## Excluding VIF features (+ [2])"
   ]
  },
  {
   "cell_type": "code",
   "execution_count": 4,
   "id": "1ee44338",
   "metadata": {},
   "outputs": [],
   "source": [
    "from utils import VIF_SELECTED_VARIABES"
   ]
  },
  {
   "cell_type": "markdown",
   "id": "0daf0bee",
   "metadata": {},
   "source": [
    "### Standard column scaler"
   ]
  },
  {
   "cell_type": "code",
   "execution_count": 23,
   "id": "9607ad25",
   "metadata": {},
   "outputs": [
    {
     "ename": "NameError",
     "evalue": "name 'VIF_SELECTED_VARIABES' is not defined",
     "output_type": "error",
     "traceback": [
      "\u001b[31m---------------------------------------------------------------------------\u001b[39m",
      "\u001b[31mNameError\u001b[39m                                 Traceback (most recent call last)",
      "\u001b[36mCell\u001b[39m\u001b[36m \u001b[39m\u001b[32mIn[23]\u001b[39m\u001b[32m, line 10\u001b[39m\n\u001b[32m      1\u001b[39m selector = PrecisionAwareFeatureSelector(\n\u001b[32m      2\u001b[39m         max_features=\u001b[32m10\u001b[39m,\n\u001b[32m      3\u001b[39m         cv_folds=\u001b[32m5\u001b[39m,\n\u001b[32m      4\u001b[39m         n_iterations=\u001b[32m15\u001b[39m,\n\u001b[32m      5\u001b[39m         stability_threshold=\u001b[32m0.7\u001b[39m,\n\u001b[32m      6\u001b[39m         early_stopping_patience=\u001b[32m3\u001b[39m,\n\u001b[32m      7\u001b[39m         top_percentile=\u001b[32m20\u001b[39m,\n\u001b[32m      8\u001b[39m         scaler=\u001b[33m\"\u001b[39m\u001b[33mct\u001b[39m\u001b[33m\"\u001b[39m,\n\u001b[32m      9\u001b[39m         column_transformer=column_transformer,\n\u001b[32m---> \u001b[39m\u001b[32m10\u001b[39m         exclude_features=\u001b[43mVIF_SELECTED_VARIABES\u001b[49m + [\u001b[32m2\u001b[39m],\n\u001b[32m     11\u001b[39m         random_state=\u001b[32m42\u001b[39m\n\u001b[32m     12\u001b[39m     )\n",
      "\u001b[31mNameError\u001b[39m: name 'VIF_SELECTED_VARIABES' is not defined"
     ]
    }
   ],
   "source": [
    "selector = PrecisionAwareFeatureSelector(\n",
    "        max_features=10,\n",
    "        cv_folds=5,\n",
    "        n_iterations=15,\n",
    "        stability_threshold=0.7,\n",
    "        early_stopping_patience=3,\n",
    "        top_percentile=20,\n",
    "        scaler=\"ct\",\n",
    "        column_transformer=column_transformer,\n",
    "        exclude_features=VIF_SELECTED_VARIABES + [2],\n",
    "        random_state=42\n",
    "    )"
   ]
  },
  {
   "cell_type": "code",
   "execution_count": 14,
   "id": "dd846501",
   "metadata": {},
   "outputs": [
    {
     "name": "stdout",
     "output_type": "stream",
     "text": [
      "Starting PAIFS with 500 features, targeting 10 features\n",
      "Excluding 20 features: [13, 178, 194, 298, 305, 117, 228, 462, 414, 425, 0, 1, 3, 4, 5, 6, 7, 8, 9, 2]\n",
      "Optimizing precision at top 20% of predictions\n",
      "Excluded 20 features. Remaining: 480 features\n",
      "\n",
      "Phase 1: Initial importance-based filtering...\n",
      "Selected top 50 features based on ensemble importance\n",
      "\n",
      "Phase 2: Iterative precision-aware selection...\n",
      "Iteration 1: Added feature 402, Score: 0.5550, Total features: 1\n",
      "Iteration 2: Added feature 356, Score: 0.5620, Total features: 2\n",
      "Iteration 3: Added feature 323, Score: 0.5610, Total features: 3\n",
      "Iteration 4: Added feature 369, Score: 0.5660, Total features: 4\n",
      "Iteration 5: Added feature 314, Score: 0.5710, Total features: 5\n",
      "Iteration 6: Added feature 344, Score: 0.5630, Total features: 6\n",
      "Feature selection stabilized at iteration 6\n",
      "\n",
      "Final selection: 6 features\n",
      "Selected features (original indices): [402, 356, 323, 369, 314, 344]\n",
      "Final precision@top20%: 0.5710\n"
     ]
    },
    {
     "data": {
      "text/plain": [
       "<PAIFS.PrecisionAwareFeatureSelector at 0x31ce75550>"
      ]
     },
     "execution_count": 14,
     "metadata": {},
     "output_type": "execute_result"
    }
   ],
   "source": [
    "selector.fit(X,y)"
   ]
  },
  {
   "cell_type": "markdown",
   "id": "c5455906",
   "metadata": {},
   "source": [
    "### Alt Scaler"
   ]
  },
  {
   "cell_type": "code",
   "execution_count": 5,
   "id": "185ca863",
   "metadata": {},
   "outputs": [],
   "source": [
    "selector = PrecisionAwareFeatureSelector(\n",
    "        max_features=10,\n",
    "        cv_folds=5,\n",
    "        n_iterations=15,\n",
    "        stability_threshold=0.7,\n",
    "        early_stopping_patience=3,\n",
    "        top_percentile=20,\n",
    "        scaler=\"act\",\n",
    "        column_transformer=column_transformer,\n",
    "        alternative_column_transformer=alternative_column_transformer,\n",
    "        exclude_features=VIF_SELECTED_VARIABES + [2],\n",
    "        random_state=42\n",
    "    )"
   ]
  },
  {
   "cell_type": "code",
   "execution_count": 6,
   "id": "28446a53",
   "metadata": {},
   "outputs": [
    {
     "name": "stdout",
     "output_type": "stream",
     "text": [
      "Starting PAIFS with 500 features, targeting 10 features\n",
      "Excluding 20 features: [13, 178, 194, 298, 305, 117, 228, 462, 414, 425, 0, 1, 3, 4, 5, 6, 7, 8, 9, 2]\n",
      "Optimizing precision at top 20% of predictions\n",
      "Excluded 20 features. Remaining: 480 features\n",
      "\n",
      "Phase 1: Initial importance-based filtering...\n",
      "Selected top 50 features based on ensemble importance\n",
      "\n",
      "Phase 2: Iterative precision-aware selection...\n",
      "Iteration 1: Added feature 402, Score: 0.5550, Total features: 1\n",
      "Iteration 2: Added feature 356, Score: 0.5620, Total features: 2\n",
      "Iteration 3: Added feature 323, Score: 0.5610, Total features: 3\n",
      "Iteration 4: Added feature 369, Score: 0.5660, Total features: 4\n",
      "Iteration 5: Added feature 314, Score: 0.5710, Total features: 5\n",
      "Iteration 6: Added feature 344, Score: 0.5630, Total features: 6\n",
      "Feature selection stabilized at iteration 6\n",
      "\n",
      "Final selection: 6 features\n",
      "Selected features (original indices): [402, 356, 323, 369, 314, 344]\n",
      "Final precision@top20%: 0.5710\n"
     ]
    },
    {
     "data": {
      "text/plain": [
       "<PAIFS.PrecisionAwareFeatureSelector at 0x16d391a50>"
      ]
     },
     "execution_count": 6,
     "metadata": {},
     "output_type": "execute_result"
    }
   ],
   "source": [
    "selector.fit(X,y)"
   ]
  },
  {
   "cell_type": "markdown",
   "id": "379de047",
   "metadata": {},
   "source": [
    "## Excluding first 10 features"
   ]
  },
  {
   "cell_type": "markdown",
   "id": "8ac8cd57",
   "metadata": {},
   "source": [
    "### Standard column scaler"
   ]
  },
  {
   "cell_type": "code",
   "execution_count": 26,
   "id": "7988f823",
   "metadata": {},
   "outputs": [],
   "source": [
    "selector = PrecisionAwareFeatureSelector(\n",
    "        max_features=10,\n",
    "        cv_folds=5,\n",
    "        n_iterations=15,\n",
    "        stability_threshold=0.7,\n",
    "        early_stopping_patience=3,\n",
    "        top_percentile=20,\n",
    "        scaler=\"ct\",\n",
    "        column_transformer=column_transformer,\n",
    "        exclude_features=[0,1,2,3,4,5,6,7,8,9],\n",
    "        random_state=42\n",
    "    )"
   ]
  },
  {
   "cell_type": "code",
   "execution_count": 27,
   "id": "0b1e9c67",
   "metadata": {},
   "outputs": [
    {
     "name": "stdout",
     "output_type": "stream",
     "text": [
      "Starting PAIFS with 500 features, targeting 10 features\n",
      "Excluding 10 features: [0, 1, 2, 3, 4, 5, 6, 7, 8, 9]\n",
      "Optimizing precision at top 20% of predictions\n",
      "Excluded 10 features. Remaining: 490 features\n",
      "\n",
      "Phase 1: Initial importance-based filtering...\n",
      "Selected top 50 features based on ensemble importance\n",
      "\n",
      "Phase 2: Iterative precision-aware selection...\n",
      "Iteration 1: Added feature 414, Score: 0.7020, Total features: 1\n",
      "Iteration 2: Added feature 425, Score: 0.7430, Total features: 2\n",
      "Iteration 3: Added feature 332, Score: 0.7540, Total features: 3\n",
      "Iteration 4: Added feature 348, Score: 0.7600, Total features: 4\n",
      "Iteration 5: Added feature 323, Score: 0.7660, Total features: 5\n",
      "Iteration 6: Added feature 358, Score: 0.7650, Total features: 6\n",
      "Feature selection stabilized at iteration 6\n",
      "\n",
      "Final selection: 6 features\n",
      "Selected features (original indices): [414, 425, 332, 348, 323, 358]\n",
      "Final precision@top20%: 0.7660\n"
     ]
    },
    {
     "data": {
      "text/plain": [
       "<PAIFS.PrecisionAwareFeatureSelector at 0x3312559d0>"
      ]
     },
     "execution_count": 27,
     "metadata": {},
     "output_type": "execute_result"
    }
   ],
   "source": [
    "selector.fit(X,y)"
   ]
  },
  {
   "cell_type": "markdown",
   "id": "c10f4fda",
   "metadata": {},
   "source": [
    "### Alt Scaler"
   ]
  },
  {
   "cell_type": "code",
   "execution_count": 30,
   "id": "28a3703b",
   "metadata": {},
   "outputs": [],
   "source": [
    "selector = PrecisionAwareFeatureSelector(\n",
    "        max_features=10,\n",
    "        cv_folds=5,\n",
    "        n_iterations=15,\n",
    "        stability_threshold=0.7,\n",
    "        early_stopping_patience=3,\n",
    "        top_percentile=20,\n",
    "        scaler=\"act\",\n",
    "        column_transformer=column_transformer,\n",
    "        alternative_column_transformer=tree_column_transformer,\n",
    "        exclude_features=[0,1,2,3,4,5,6,7,8,9],\n",
    "        random_state=42\n",
    "    )"
   ]
  },
  {
   "cell_type": "code",
   "execution_count": 31,
   "id": "a0788e45",
   "metadata": {},
   "outputs": [
    {
     "name": "stdout",
     "output_type": "stream",
     "text": [
      "Starting PAIFS with 500 features, targeting 10 features\n",
      "Excluding 10 features: [0, 1, 2, 3, 4, 5, 6, 7, 8, 9]\n",
      "Optimizing precision at top 20% of predictions\n",
      "Excluded 10 features. Remaining: 490 features\n",
      "\n",
      "Phase 1: Initial importance-based filtering...\n",
      "Selected top 50 features based on ensemble importance\n",
      "\n",
      "Phase 2: Iterative precision-aware selection...\n",
      "Iteration 1: Added feature 414, Score: 0.7020, Total features: 1\n",
      "Iteration 2: Added feature 425, Score: 0.7430, Total features: 2\n",
      "Iteration 3: Added feature 332, Score: 0.7540, Total features: 3\n",
      "Iteration 4: Added feature 348, Score: 0.7610, Total features: 4\n",
      "Iteration 5: Added feature 323, Score: 0.7660, Total features: 5\n",
      "Iteration 6: Added feature 115, Score: 0.7640, Total features: 6\n",
      "Feature selection stabilized at iteration 6\n",
      "\n",
      "Final selection: 6 features\n",
      "Selected features (original indices): [414, 425, 332, 348, 323, 115]\n",
      "Final precision@top20%: 0.7660\n"
     ]
    },
    {
     "data": {
      "text/plain": [
       "<PAIFS.PrecisionAwareFeatureSelector at 0x32966d8d0>"
      ]
     },
     "execution_count": 31,
     "metadata": {},
     "output_type": "execute_result"
    }
   ],
   "source": [
    "selector.fit(X,y)"
   ]
  },
  {
   "cell_type": "markdown",
   "id": "c30ff763",
   "metadata": {},
   "source": [
    "Found [2, 360, 374, 402, 314, 356, 397]"
   ]
  },
  {
   "cell_type": "markdown",
   "id": "c3e10356",
   "metadata": {},
   "source": [
    "# Evalutaion"
   ]
  },
  {
   "cell_type": "code",
   "execution_count": 68,
   "id": "d42341f3",
   "metadata": {},
   "outputs": [],
   "source": [
    "paifs_variables = [2, 3, 4, 360, 374, 402, 314, 356, 397]\n",
    "best_paifs_variables = [3,2,4,395,5,315]"
   ]
  },
  {
   "cell_type": "code",
   "execution_count": 69,
   "id": "be8c21b6",
   "metadata": {},
   "outputs": [],
   "source": [
    "from utils import ModelComparator, ModelEnsemble"
   ]
  },
  {
   "cell_type": "code",
   "execution_count": 70,
   "id": "2d054c0b",
   "metadata": {},
   "outputs": [],
   "source": [
    "comparator = ModelComparator(X, y, n_splits=20, scaling=\"tree\")"
   ]
  },
  {
   "cell_type": "code",
   "execution_count": 71,
   "id": "423d5d28",
   "metadata": {},
   "outputs": [],
   "source": [
    "from sklearn.linear_model import LogisticRegression, RidgeClassifier, SGDClassifier, Perceptron, PassiveAggressiveClassifier\n",
    "from sklearn.naive_bayes import GaussianNB, MultinomialNB, BernoulliNB, ComplementNB, CategoricalNB\n",
    "from sklearn.svm import SVC, NuSVC, LinearSVC\n",
    "from sklearn.neighbors import KNeighborsClassifier, RadiusNeighborsClassifier, NearestCentroid\n",
    "from sklearn.tree import DecisionTreeClassifier, ExtraTreeClassifier\n",
    "from sklearn.ensemble import RandomForestClassifier, ExtraTreesClassifier, AdaBoostClassifier, GradientBoostingClassifier, BaggingClassifier, StackingClassifier, VotingClassifier, HistGradientBoostingClassifier\n",
    "from sklearn.discriminant_analysis import LinearDiscriminantAnalysis, QuadraticDiscriminantAnalysis\n",
    "from sklearn.gaussian_process import GaussianProcessClassifier\n",
    "\n",
    "from xgboost import XGBClassifier\n",
    "from mlp import MLPClassifier"
   ]
  },
  {
   "cell_type": "code",
   "execution_count": null,
   "id": "5e6f121a",
   "metadata": {},
   "outputs": [
    {
     "data": {
      "image/png": "[encoded data removed]",
      "text/plain": [
       "<Figure size 1200x600 with 1 Axes>"
      ]
     },
     "metadata": {},
     "output_type": "display_data"
    },
    {
     "name": "stdout",
     "output_type": "stream",
     "text": [
      "Test Accuracies (Overall): 0.71 ± 0.02\n"
     ]
    },
    {
     "data": {
      "text/plain": [
       "0.7637254901960785"
      ]
     },
     "execution_count": 72,
     "metadata": {},
     "output_type": "execute_result"
    }
   ],
   "source": [
    "ensemble = ModelEnsemble(models=[\n",
    "    GradientBoostingClassifier(n_estimators=100, random_state=42),\n",
    "    ],\n",
    "    voting='mean')\n",
    "comparator.evaluate_model(ensemble, variables=best_paifs_variables)"
   ]
  },
  {
   "cell_type": "markdown",
   "id": "10edcab5",
   "metadata": {},
   "source": [
    "# Result calculation"
   ]
  },
  {
   "cell_type": "code",
   "execution_count": null,
   "id": "2a3dfb87",
   "metadata": {},
   "outputs": [],
   "source": [
    "X_test = pd.read_table('x_test.txt', sep=\" \", header=None)"
   ]
  },
  {
   "cell_type": "code",
   "execution_count": 83,
   "id": "8b8c7329",
   "metadata": {},
   "outputs": [],
   "source": [
    "scaler = tree_column_transformer\n",
    "scaler.fit(np.asarray(X))\n",
    "X_train_scaled =  scaler.transform(X)[:, best_paifs_variables]\n",
    "X_test_scaled = scaler.transform(X_test)[:, best_paifs_variables]\n",
    "\n",
    "model = GradientBoostingClassifier(n_estimators=100, random_state=42)\n",
    "\n",
    "model.fit(X_train_scaled, y)\n",
    "y_pred = model.predict_proba(X_test_scaled)[:,1]"
   ]
  },
  {
   "cell_type": "code",
   "execution_count": 94,
   "id": "6999f799",
   "metadata": {},
   "outputs": [],
   "source": [
    "sorted_indices = np.argsort(y_pred)"
   ]
  },
  {
   "cell_type": "code",
   "execution_count": 95,
   "id": "8f4dd68d",
   "metadata": {},
   "outputs": [],
   "source": [
    "np.savetxt('PAIFS_results.txt', sorted_indices.astype(np.int8))"
   ]
  }
 ],
 "metadata": {
  "kernelspec": {
   "display_name": "Python 3",
   "language": "python",
   "name": "python3"
  },
  "language_info": {
   "codemirror_mode": {
    "name": "ipython",
    "version": 3
   },
   "file_extension": ".py",
   "mimetype": "text/x-python",
   "name": "python",
   "nbconvert_exporter": "python",
   "pygments_lexer": "ipython3",
   "version": "3.11.7"
  }
 },
 "nbformat": 4,
 "nbformat_minor": 5
}
